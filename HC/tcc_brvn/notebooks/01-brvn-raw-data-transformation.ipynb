{
 "cells": [
  {
   "cell_type": "code",
   "execution_count": 1,
   "metadata": {},
   "outputs": [],
   "source": [
    "import pandas as pd\n",
    "import configparser"
   ]
  },
  {
   "cell_type": "code",
   "execution_count": 2,
   "metadata": {},
   "outputs": [],
   "source": [
    "config = configparser.ConfigParser()\n",
    "config.read('config.ini')\n",
    "\n",
    "raw_data_path = config['Paths']['raw_data_path']\n",
    "raw_df = pd.read_csv(raw_data_path, delimiter=';')\n",
    "\n",
    "raw_data_2016 = config['Paths']['raw_data_2016']\n",
    "df_2016 = pd.read_csv(raw_data_2016, delimiter=\";\")"
   ]
  },
  {
   "cell_type": "code",
   "execution_count": 3,
   "metadata": {},
   "outputs": [],
   "source": [
    "def clean_and_convert_to_time_series(raw_data_path):\n",
    "    raw_df = pd.read_csv(raw_data_path, delimiter=';')\n",
    "    \n",
    "    def clean_raw_data(df):\n",
    "\n",
    "        df = df.drop(columns=['Total'])\n",
    "\n",
    "        df = df[df['SubGrup proced'] != 'Total']\n",
    "        return df\n",
    "\n",
    "    cleaned_df = clean_raw_data(raw_df)\n",
    "    \n",
    "    id_vars = ['SubGrup proced']\n",
    "    \n",
    "    ts_df = pd.melt(cleaned_df, id_vars=id_vars, var_name='Date', value_name='Value')\n",
    "    \n",
    "    def parse_custom_date(date_str):\n",
    "\n",
    "        month_mapping = {\n",
    "            'Jan': 'January',\n",
    "            'Fev': 'February',\n",
    "            'Mar': 'March',\n",
    "            'Abr': 'April',\n",
    "            'Mai': 'May',\n",
    "            'Jun': 'June',\n",
    "            'Jul': 'July',\n",
    "            'Ago': 'August',\n",
    "            'Set': 'September',\n",
    "            'Out': 'October',\n",
    "            'Nov': 'November',\n",
    "            'Dez': 'December'\n",
    "        }\n",
    "        \n",
    "        if date_str != 'Total':\n",
    "            month_str, year_str = date_str.split('/')\n",
    "            month_str = month_mapping.get(month_str, month_str)\n",
    "            return pd.to_datetime(f\"{month_str}/{year_str}\", format='%B/%Y')\n",
    "        \n",
    "        return date_str \n",
    "\n",
    "    ts_df['Date'] = ts_df['Date'].apply(parse_custom_date)\n",
    "\n",
    "    ts_df.set_index('Date', inplace=True)\n",
    "    \n",
    "    return ts_df\n"
   ]
  },
  {
   "cell_type": "code",
   "execution_count": 4,
   "metadata": {},
   "outputs": [],
   "source": [
    "ts_2020 = clean_and_convert_to_time_series(raw_data_path)\n",
    "ts_2016 = clean_and_convert_to_time_series(raw_data_2016)\n"
   ]
  },
  {
   "cell_type": "code",
   "execution_count": 5,
   "metadata": {},
   "outputs": [
    {
     "data": {
      "text/html": [
       "<div>\n",
       "<style scoped>\n",
       "    .dataframe tbody tr th:only-of-type {\n",
       "        vertical-align: middle;\n",
       "    }\n",
       "\n",
       "    .dataframe tbody tr th {\n",
       "        vertical-align: top;\n",
       "    }\n",
       "\n",
       "    .dataframe thead th {\n",
       "        text-align: right;\n",
       "    }\n",
       "</style>\n",
       "<table border=\"1\" class=\"dataframe\">\n",
       "  <thead>\n",
       "    <tr style=\"text-align: right;\">\n",
       "      <th></th>\n",
       "      <th>SubGrup proced</th>\n",
       "      <th>Value</th>\n",
       "    </tr>\n",
       "    <tr>\n",
       "      <th>Date</th>\n",
       "      <th></th>\n",
       "      <th></th>\n",
       "    </tr>\n",
       "  </thead>\n",
       "  <tbody>\n",
       "    <tr>\n",
       "      <th>2017-01-01</th>\n",
       "      <td>0202 Diagnostico em laboratorio clinico</td>\n",
       "      <td>38838</td>\n",
       "    </tr>\n",
       "    <tr>\n",
       "      <th>2020-01-01</th>\n",
       "      <td>0202 Diagnostico em laboratorio clinico</td>\n",
       "      <td>43209</td>\n",
       "    </tr>\n",
       "    <tr>\n",
       "      <th>2022-02-01</th>\n",
       "      <td>0202 Diagnostico em laboratorio clinico</td>\n",
       "      <td>32816</td>\n",
       "    </tr>\n",
       "    <tr>\n",
       "      <th>2019-12-01</th>\n",
       "      <td>0202 Diagnostico em laboratorio clinico</td>\n",
       "      <td>31301</td>\n",
       "    </tr>\n",
       "    <tr>\n",
       "      <th>2019-11-01</th>\n",
       "      <td>0202 Diagnostico em laboratorio clinico</td>\n",
       "      <td>36642</td>\n",
       "    </tr>\n",
       "    <tr>\n",
       "      <th>...</th>\n",
       "      <td>...</td>\n",
       "      <td>...</td>\n",
       "    </tr>\n",
       "    <tr>\n",
       "      <th>2019-06-01</th>\n",
       "      <td>0301 Consultas / Atendimentos / Acompanhamentos</td>\n",
       "      <td>18611</td>\n",
       "    </tr>\n",
       "    <tr>\n",
       "      <th>2019-05-01</th>\n",
       "      <td>0301 Consultas / Atendimentos / Acompanhamentos</td>\n",
       "      <td>19733</td>\n",
       "    </tr>\n",
       "    <tr>\n",
       "      <th>2019-04-01</th>\n",
       "      <td>0301 Consultas / Atendimentos / Acompanhamentos</td>\n",
       "      <td>20919</td>\n",
       "    </tr>\n",
       "    <tr>\n",
       "      <th>2019-02-01</th>\n",
       "      <td>0301 Consultas / Atendimentos / Acompanhamentos</td>\n",
       "      <td>16204</td>\n",
       "    </tr>\n",
       "    <tr>\n",
       "      <th>2023-08-01</th>\n",
       "      <td>0301 Consultas / Atendimentos / Acompanhamentos</td>\n",
       "      <td>26047</td>\n",
       "    </tr>\n",
       "  </tbody>\n",
       "</table>\n",
       "<p>160 rows × 2 columns</p>\n",
       "</div>"
      ],
      "text/plain": [
       "                                             SubGrup proced  Value\n",
       "Date                                                              \n",
       "2017-01-01          0202 Diagnostico em laboratorio clinico  38838\n",
       "2020-01-01          0202 Diagnostico em laboratorio clinico  43209\n",
       "2022-02-01          0202 Diagnostico em laboratorio clinico  32816\n",
       "2019-12-01          0202 Diagnostico em laboratorio clinico  31301\n",
       "2019-11-01          0202 Diagnostico em laboratorio clinico  36642\n",
       "...                                                     ...    ...\n",
       "2019-06-01  0301 Consultas / Atendimentos / Acompanhamentos  18611\n",
       "2019-05-01  0301 Consultas / Atendimentos / Acompanhamentos  19733\n",
       "2019-04-01  0301 Consultas / Atendimentos / Acompanhamentos  20919\n",
       "2019-02-01  0301 Consultas / Atendimentos / Acompanhamentos  16204\n",
       "2023-08-01  0301 Consultas / Atendimentos / Acompanhamentos  26047\n",
       "\n",
       "[160 rows x 2 columns]"
      ]
     },
     "execution_count": 5,
     "metadata": {},
     "output_type": "execute_result"
    }
   ],
   "source": [
    "ts_df = pd.concat([ts_2016, ts_2020])\n"
   ]
  },
  {
   "cell_type": "code",
   "execution_count": 8,
   "metadata": {},
   "outputs": [],
   "source": [
    "ts_df.sort_values(by=['SubGrup proced', 'Date'], inplace=True)"
   ]
  },
  {
   "cell_type": "code",
   "execution_count": 9,
   "metadata": {},
   "outputs": [
    {
     "name": "stdout",
     "output_type": "stream",
     "text": [
      "The combined time series dataset has been saved to: C:\\Users\\brvn\\Documents\\github\\projects\\HC\\tcc_brvn\\data\\processed\\processed-time-series.csv\n"
     ]
    }
   ],
   "source": [
    "# Save the combined time series dataset to a CSV file\n",
    "output_csv_path = config['Paths']['output_csv_path']\n",
    "ts_df.to_csv(output_csv_path, sep=',', index=True)\n",
    "\n",
    "print(f\"The combined time series dataset has been saved.\")\n"
   ]
  }
 ],
 "metadata": {
  "kernelspec": {
   "display_name": "tcc",
   "language": "python",
   "name": "python3"
  },
  "language_info": {
   "codemirror_mode": {
    "name": "ipython",
    "version": 3
   },
   "file_extension": ".py",
   "mimetype": "text/x-python",
   "name": "python",
   "nbconvert_exporter": "python",
   "pygments_lexer": "ipython3",
   "version": "3.11.5"
  }
 },
 "nbformat": 4,
 "nbformat_minor": 2
}
