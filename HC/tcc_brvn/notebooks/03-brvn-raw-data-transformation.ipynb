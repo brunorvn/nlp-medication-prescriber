{
 "cells": [
  {
   "cell_type": "code",
   "execution_count": 2,
   "metadata": {},
   "outputs": [],
   "source": [
    "import pandas as pd\n",
    "import configparser"
   ]
  },
  {
   "cell_type": "code",
   "execution_count": 3,
   "metadata": {},
   "outputs": [],
   "source": [
    "config = configparser.ConfigParser()\n",
    "config.read('config.ini')\n",
    "\n",
    "raw_data_procedures = config['Paths']['raw_data_procedures']\n",
    "df_raw_procedures = pd.read_csv(raw_data_procedures, delimiter=';')\n",
    "\n",
    "raw_data_subgroups = config['Paths']['raw_data_subgroups']\n",
    "df_raw_subgroups = pd.read_csv(raw_data_subgroups, delimiter=\";\")"
   ]
  },
  {
   "cell_type": "code",
   "execution_count": 4,
   "metadata": {},
   "outputs": [],
   "source": [
    "def clean_raw_data(df, vars_str):\n",
    "\n",
    "        df = df.drop(columns=['Total'])\n",
    "\n",
    "        df = df[df[f'{vars_str}'] != 'Total']\n",
    "        return df\n",
    "    \n",
    "def clean_and_convert_to_time_series(df, vars_str):\n",
    "\n",
    "\n",
    "    cleaned_df = clean_raw_data(df, vars_str)\n",
    "    \n",
    "    id_vars = [f'{vars_str}']\n",
    "    \n",
    "    ts_df = pd.melt(cleaned_df, id_vars=id_vars, var_name='ds', value_name='y')\n",
    "    \n",
    "    def parse_custom_date(date_str):\n",
    "\n",
    "        month_mapping = {\n",
    "            'Jan': 'January',\n",
    "            'Fev': 'February',\n",
    "            'Mar': 'March',\n",
    "            'Abr': 'April',\n",
    "            'Mai': 'May',\n",
    "            'Jun': 'June',\n",
    "            'Jul': 'July',\n",
    "            'Ago': 'August',\n",
    "            'Set': 'September',\n",
    "            'Out': 'October',\n",
    "            'Nov': 'November',\n",
    "            'Dez': 'December'\n",
    "        }\n",
    "        \n",
    "        if date_str != 'Total':\n",
    "            month_str, year_str = date_str.split('/')\n",
    "            month_str = month_mapping.get(month_str, month_str)\n",
    "            return pd.to_datetime(f\"{month_str}/{year_str}\", format='%B/%Y')\n",
    "        \n",
    "        return date_str \n",
    "\n",
    "    ts_df['ds'] = ts_df['ds'].apply(parse_custom_date)\n",
    "\n",
    "    ts_df.set_index('ds', inplace=True)\n",
    "    \n",
    "    return ts_df\n"
   ]
  },
  {
   "cell_type": "code",
   "execution_count": 5,
   "metadata": {},
   "outputs": [],
   "source": [
    "ts_proced = clean_and_convert_to_time_series(df=df_raw_procedures, vars_str='Procedimento')\n",
    "ts_subgroup = clean_and_convert_to_time_series(df=df_raw_subgroups, vars_str='SubGrup proced')\n"
   ]
  },
  {
   "cell_type": "code",
   "execution_count": 6,
   "metadata": {},
   "outputs": [],
   "source": [
    "ts_proced = ts_proced.rename(columns={\"Procedimento\": \"unique_id\"})\n",
    "ts_subgroup = ts_subgroup.rename(columns={\"SubGrup proced\": \"unique_id\"})"
   ]
  },
  {
   "cell_type": "code",
   "execution_count": 7,
   "metadata": {},
   "outputs": [],
   "source": [
    "ts_proced.sort_values(by=['unique_id', 'ds'], inplace=True)\n",
    "ts_subgroup.sort_values(by=['unique_id', 'ds'], inplace=True)"
   ]
  },
  {
   "cell_type": "code",
   "execution_count": 8,
   "metadata": {},
   "outputs": [
    {
     "name": "stdout",
     "output_type": "stream",
     "text": [
      "The combined time series dataset has been saved.\n"
     ]
    }
   ],
   "source": [
    "# Save the combined time series dataset to a CSV file\n",
    "output_csv_procedures = config['Paths']['output_csv_procedures']\n",
    "ts_proced.to_csv(output_csv_procedures, sep=',', index=True)\n",
    "\n",
    "output_csv_subgroups = config['Paths']['output_csv_subgroups']\n",
    "ts_subgroup.to_csv(output_csv_subgroups, sep=',', index=True)\n",
    "\n",
    "print(f\"The combined time series dataset has been saved.\")"
   ]
  }
 ],
 "metadata": {
  "kernelspec": {
   "display_name": "tcc",
   "language": "python",
   "name": "python3"
  },
  "language_info": {
   "codemirror_mode": {
    "name": "ipython",
    "version": 3
   },
   "file_extension": ".py",
   "mimetype": "text/x-python",
   "name": "python",
   "nbconvert_exporter": "python",
   "pygments_lexer": "ipython3",
   "version": "3.11.5"
  }
 },
 "nbformat": 4,
 "nbformat_minor": 2
}
