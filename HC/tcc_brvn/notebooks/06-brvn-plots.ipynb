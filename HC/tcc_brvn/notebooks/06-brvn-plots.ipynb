{
 "cells": [
  {
   "cell_type": "code",
   "execution_count": 1,
   "metadata": {},
   "outputs": [],
   "source": [
    "import pandas as pd\n",
    "import seaborn as sns\n",
    "sns.set_palette('Accent')\n",
    "sns.set_style('darkgrid')"
   ]
  },
  {
   "cell_type": "code",
   "execution_count": null,
   "metadata": {},
   "outputs": [],
   "source": []
  },
  {
   "cell_type": "code",
   "execution_count": null,
   "metadata": {},
   "outputs": [],
   "source": [
    "ax = sns.lineplot(x='Month/Year', y=\"Value\", data=diagnose)\n",
    "ax.figure.set_size_inches(12, 6)\n",
    "ax.set_title(\"Produção Assistencial entre 2012 e 2023\", loc=\"left\")\n",
    "ax.set_xlabel(\"Mês/Ano\", fontsize=14)\n",
    "ax.set_ylabel(\"Produção\", fontsize=14)\n",
    "ax = ax\n"
   ]
  }
 ],
 "metadata": {
  "kernelspec": {
   "display_name": "meutcc",
   "language": "python",
   "name": "python3"
  },
  "language_info": {
   "codemirror_mode": {
    "name": "ipython",
    "version": 3
   },
   "file_extension": ".py",
   "mimetype": "text/x-python",
   "name": "python",
   "nbconvert_exporter": "python",
   "pygments_lexer": "ipython3",
   "version": "3.11.5"
  }
 },
 "nbformat": 4,
 "nbformat_minor": 2
}
